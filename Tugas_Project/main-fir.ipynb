{
 "cells": [
  {
   "cell_type": "code",
   "execution_count": 1,
<<<<<<< Updated upstream
   "metadata": {},
   "outputs": [],
   "source": [
    "import sys\n",
    "sys.path.append('Tugas_Project/models/model_dt.py')"
   ]
  },
  {
   "cell_type": "code",
   "execution_count": 2,
   "metadata": {},
   "outputs": [
    {
     "ename": "ModuleNotFoundError",
     "evalue": "No module named 'model_dt'",
     "output_type": "error",
     "traceback": [
      "\u001b[0;31m---------------------------------------------------------------------------\u001b[0m",
      "\u001b[0;31mModuleNotFoundError\u001b[0m                       Traceback (most recent call last)",
      "Cell \u001b[0;32mIn[2], line 1\u001b[0m\n\u001b[0;32m----> 1\u001b[0m \u001b[39mimport\u001b[39;00m \u001b[39mmodel_dt\u001b[39;00m\n\u001b[1;32m      2\u001b[0m \u001b[39mprint\u001b[39m(model_dt\u001b[39m.\u001b[39mprint_hello_world())\n",
      "\u001b[0;31mModuleNotFoundError\u001b[0m: No module named 'model_dt'"
     ]
    }
   ],
   "source": [
    "import model_dt\n",
    "print(model_dt.print_hello_world())"
=======
   "metadata": {},
   "outputs": [
    {
     "data": {
      "text/plain": [
       "<module 'models' (<_frozen_importlib_external.NamespaceLoader object at 0x7f9bddedb150>)>"
      ]
     },
     "execution_count": 1,
     "metadata": {},
     "output_type": "execute_result"
    }
   ],
   "source": [
    "import pandas as pd\n",
    "import models\n",
    "import importlib\n",
    "importlib.reload(models)"
   ]
  },
  {
   "cell_type": "code",
   "execution_count": 2,
   "metadata": {},
   "outputs": [
    {
     "data": {
      "text/plain": [
       "<module 'models' (<_frozen_importlib_external.NamespaceLoader object at 0x7f9bc7db13d0>)>"
      ]
     },
     "execution_count": 2,
     "metadata": {},
     "output_type": "execute_result"
    }
   ],
   "source": [
    "from models.model_knn import KNN\n",
    "from models.model_svm import SVM\n",
    "from models import cv_report\n",
    "importlib.reload(models.model_knn)\n",
    "importlib.reload(models.model_svm)\n",
    "importlib.reload(models)"
   ]
  },
  {
   "cell_type": "code",
   "execution_count": 3,
   "metadata": {},
   "outputs": [],
   "source": [
    "df = pd.read_csv('/home/firh/Documents/GitHub/Kel-PPM-E/Dataset/dropped_chirosis.csv', sep=';')\n",
    "df_firhan = df.iloc[[73, 77, 79, 82, 84, 86, 87, 88, 89, 90, 74, 75, 76, 78, 80, 81, 83, 85, 91, 92]]"
   ]
  },
  {
   "cell_type": "code",
   "execution_count": 4,
   "metadata": {},
   "outputs": [],
   "source": [
    "from sklearn.model_selection import train_test_split\n",
    "import numpy as np\n",
    "data_latih, data_uji = train_test_split(df, test_size = 0.2, random_state=42)"
   ]
  },
  {
   "cell_type": "code",
   "execution_count": 5,
   "metadata": {},
   "outputs": [
    {
     "name": "stdout",
     "output_type": "stream",
     "text": [
      "K : 3\n"
     ]
    },
    {
     "ename": "TypeError",
     "evalue": "KNN.predict() missing 1 required positional argument: 'datauji'",
     "output_type": "error",
     "traceback": [
      "\u001b[0;31m---------------------------------------------------------------------------\u001b[0m",
      "\u001b[0;31mTypeError\u001b[0m                                 Traceback (most recent call last)",
      "Cell \u001b[0;32mIn[5], line 4\u001b[0m\n\u001b[1;32m      2\u001b[0m \u001b[39mprint\u001b[39m(\u001b[39m'\u001b[39m\u001b[39mK :\u001b[39m\u001b[39m'\u001b[39m,i)\n\u001b[1;32m      3\u001b[0m model \u001b[39m=\u001b[39m KNN(i)\n\u001b[0;32m----> 4\u001b[0m cv_report\u001b[39m.\u001b[39;49mcv_report_knn(df,KNN)\n",
      "File \u001b[0;32m~/Documents/GitHub/Kel-PPM-E/Tugas_Project/models/cv_report.py:6\u001b[0m, in \u001b[0;36mcv_report_knn\u001b[0;34m(df, model)\u001b[0m\n\u001b[1;32m      4\u001b[0m \u001b[39mdef\u001b[39;00m \u001b[39mcv_report_knn\u001b[39m(df, model) :\n\u001b[1;32m      5\u001b[0m     data_latih, data_uji \u001b[39m=\u001b[39m train_test_split(df, test_size\u001b[39m=\u001b[39m\u001b[39m0.2\u001b[39m, random_state\u001b[39m=\u001b[39m\u001b[39m42\u001b[39m)\n\u001b[0;32m----> 6\u001b[0m     predictions \u001b[39m=\u001b[39m model\u001b[39m.\u001b[39;49mpredict(data_latih, data_uji)\n\u001b[1;32m      7\u001b[0m     \u001b[39mprint\u001b[39m(classification_report(data_uji[data_uji\u001b[39m.\u001b[39mcolumns[\u001b[39m-\u001b[39m\u001b[39m1\u001b[39m]], predictions))\n",
      "\u001b[0;31mTypeError\u001b[0m: KNN.predict() missing 1 required positional argument: 'datauji'"
     ]
    }
   ],
   "source": [
    "for i in range (3,10) :\n",
    "    print('K :',i)\n",
    "    model = KNN(i)\n",
    "    cv_report.cv_report_knn(df,KNN)"
>>>>>>> Stashed changes
   ]
  }
 ],
 "metadata": {
  "kernelspec": {
   "display_name": "Python 3",
   "language": "python",
   "name": "python3"
  },
  "language_info": {
   "codemirror_mode": {
    "name": "ipython",
    "version": 3
   },
   "file_extension": ".py",
   "mimetype": "text/x-python",
   "name": "python",
   "nbconvert_exporter": "python",
   "pygments_lexer": "ipython3",
   "version": "3.11.3"
  },
  "orig_nbformat": 4
 },
 "nbformat": 4,
 "nbformat_minor": 2
}
