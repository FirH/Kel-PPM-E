{
 "cells": [
  {
   "cell_type": "code",
   "execution_count": 1,
   "metadata": {},
   "outputs": [
    {
     "data": {
      "text/plain": [
       "<module 'models' (<_frozen_importlib_external.NamespaceLoader object at 0x000001A157C7D9D0>)>"
      ]
     },
     "execution_count": 1,
     "metadata": {},
     "output_type": "execute_result"
    }
   ],
   "source": [
    "import pandas as pd\n",
    "import models\n",
    "import importlib\n",
    "importlib.reload(models)"
   ]
  },
  {
   "cell_type": "code",
   "execution_count": 2,
   "metadata": {},
   "outputs": [
    {
     "data": {
      "text/plain": [
       "<module 'models' (<_frozen_importlib_external.NamespaceLoader object at 0x000001A16FD99AD0>)>"
      ]
     },
     "execution_count": 2,
     "metadata": {},
     "output_type": "execute_result"
    }
   ],
   "source": [
    "from models.model_knn import KNN\n",
    "from models.model_svm import SVM\n",
    "from models.model_dt import DTGI\n",
    "from models import confusion_matrix\n",
    "from models import encode\n",
    "from models import preprocessor\n",
    "importlib.reload(models.model_knn)\n",
    "importlib.reload(models.model_svm)\n",
    "importlib.reload(models.model_dt)\n",
    "importlib.reload(models)"
   ]
  },
  {
   "cell_type": "code",
   "execution_count": 3,
   "metadata": {},
   "outputs": [],
   "source": [
    "df = pd.read_csv('D:\\Kuliah Stuff\\Kodingans\\PPM TA\\Kel-PPM-E\\Dataset\\cirrhosis.csv')"
   ]
  },
  {
   "cell_type": "code",
   "execution_count": 4,
   "metadata": {},
   "outputs": [],
   "source": [
    "encoded = encode.encode(df.copy())\n",
    "imputed = preprocessor.impute(encoded)\n",
    "normalized = preprocessor.zscore(imputed)"
   ]
  },
  {
   "cell_type": "code",
   "execution_count": 5,
   "metadata": {},
   "outputs": [
    {
     "name": "stdout",
     "output_type": "stream",
     "text": [
      "              precision    recall  f1-score   support\n",
      "\n",
      "           0       0.63      0.98      0.77        53\n",
      "           1       0.50      0.03      0.06        31\n",
      "\n",
      "    accuracy                           0.63        84\n",
      "   macro avg       0.57      0.51      0.42        84\n",
      "weighted avg       0.58      0.63      0.51        84\n",
      "\n"
     ]
    }
   ],
   "source": [
    "model_dt = DTGI()\n",
    "confusion_matrix.report_dt(normalized,model_dt)"
   ]
  }
 ],
 "metadata": {
  "kernelspec": {
   "display_name": "Python 3",
   "language": "python",
   "name": "python3"
  },
  "language_info": {
   "codemirror_mode": {
    "name": "ipython",
    "version": 3
   },
   "file_extension": ".py",
   "mimetype": "text/x-python",
   "name": "python",
   "nbconvert_exporter": "python",
   "pygments_lexer": "ipython3",
   "version": "3.11.3"
  },
  "orig_nbformat": 4
 },
 "nbformat": 4,
 "nbformat_minor": 2
}
