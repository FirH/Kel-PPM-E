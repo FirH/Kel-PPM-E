{
 "cells": [
  {
   "cell_type": "code",
   "execution_count": 5,
   "metadata": {},
   "outputs": [
    {
     "data": {
      "text/plain": [
       "<module 'models' (<_frozen_importlib_external.NamespaceLoader object at 0x7f3553f3ebd0>)>"
      ]
     },
     "execution_count": 5,
     "metadata": {},
     "output_type": "execute_result"
    }
   ],
   "source": [
    "import pandas as pd\n",
    "import models\n",
    "import importlib\n",
    "importlib.reload(models)"
   ]
  },
  {
   "cell_type": "code",
   "execution_count": 6,
   "metadata": {},
   "outputs": [
    {
     "data": {
      "text/plain": [
       "<module 'models' (<_frozen_importlib_external.NamespaceLoader object at 0x7f3553a04210>)>"
      ]
     },
     "execution_count": 6,
     "metadata": {},
     "output_type": "execute_result"
    }
   ],
   "source": [
    "from models.model_knn import KNN\n",
    "from models.model_svm import SVM\n",
    "from models import confusion_matrix\n",
    "importlib.reload(models.model_knn)\n",
    "importlib.reload(models.model_svm)\n",
    "importlib.reload(models)"
   ]
  },
  {
   "cell_type": "code",
   "execution_count": 7,
   "metadata": {},
   "outputs": [],
   "source": [
    "df = pd.read_csv('/home/firh/Documents/GitHub/Kel-PPM-E/Dataset/dropped_chirosis.csv', sep=';')\n",
    "df_firhan = df.iloc[[73, 77, 79, 82, 84, 86, 87, 88, 89, 90, 74, 75, 76, 78, 80, 81, 83, 85, 91, 92]]"
   ]
  },
  {
   "cell_type": "code",
   "execution_count": 8,
   "metadata": {},
   "outputs": [],
   "source": [
    "from sklearn.model_selection import train_test_split\n",
    "import numpy as np\n",
    "data_latih, data_uji = train_test_split(df, test_size = 0.2, random_state=42)"
   ]
  },
  {
   "cell_type": "code",
   "execution_count": 10,
   "metadata": {},
   "outputs": [
    {
     "name": "stdout",
     "output_type": "stream",
     "text": [
      "K : 3\n",
      "              precision    recall  f1-score   support\n",
      "\n",
      "           0       0.72      0.72      0.72        36\n",
      "           1       0.50      0.50      0.50        20\n",
      "\n",
      "    accuracy                           0.64        56\n",
      "   macro avg       0.61      0.61      0.61        56\n",
      "weighted avg       0.64      0.64      0.64        56\n",
      "\n",
      "K : 5\n",
      "              precision    recall  f1-score   support\n",
      "\n",
      "           0       0.70      0.83      0.76        36\n",
      "           1       0.54      0.35      0.42        20\n",
      "\n",
      "    accuracy                           0.66        56\n",
      "   macro avg       0.62      0.59      0.59        56\n",
      "weighted avg       0.64      0.66      0.64        56\n",
      "\n",
      "K : 7\n",
      "              precision    recall  f1-score   support\n",
      "\n",
      "           0       0.71      0.81      0.75        36\n",
      "           1       0.53      0.40      0.46        20\n",
      "\n",
      "    accuracy                           0.66        56\n",
      "   macro avg       0.62      0.60      0.61        56\n",
      "weighted avg       0.65      0.66      0.65        56\n",
      "\n",
      "K : 9\n",
      "              precision    recall  f1-score   support\n",
      "\n",
      "           0       0.71      0.81      0.75        36\n",
      "           1       0.53      0.40      0.46        20\n",
      "\n",
      "    accuracy                           0.66        56\n",
      "   macro avg       0.62      0.60      0.61        56\n",
      "weighted avg       0.65      0.66      0.65        56\n",
      "\n"
     ]
    }
   ],
   "source": [
    "for i in range (3,10,2) :\n",
    "    print('K :',i)\n",
    "    model = KNN(i)\n",
    "    confusion_matrix.report_knn(df,model)"
   ]
  },
  {
   "cell_type": "code",
   "execution_count": null,
   "metadata": {},
   "outputs": [
    {
     "name": "stdout",
     "output_type": "stream",
     "text": [
      "              precision    recall  f1-score   support\n",
      "\n",
      "           0       0.00      0.00      0.00        36\n",
      "           1       0.36      1.00      0.53        20\n",
      "\n",
      "    accuracy                           0.36        56\n",
      "   macro avg       0.18      0.50      0.26        56\n",
      "weighted avg       0.13      0.36      0.19        56\n",
      "\n"
     ]
    },
    {
     "name": "stderr",
     "output_type": "stream",
     "text": [
      "/home/firh/.local/lib/python3.11/site-packages/sklearn/metrics/_classification.py:1344: UndefinedMetricWarning: Precision and F-score are ill-defined and being set to 0.0 in labels with no predicted samples. Use `zero_division` parameter to control this behavior.\n",
      "  _warn_prf(average, modifier, msg_start, len(result))\n",
      "/home/firh/.local/lib/python3.11/site-packages/sklearn/metrics/_classification.py:1344: UndefinedMetricWarning: Precision and F-score are ill-defined and being set to 0.0 in labels with no predicted samples. Use `zero_division` parameter to control this behavior.\n",
      "  _warn_prf(average, modifier, msg_start, len(result))\n",
      "/home/firh/.local/lib/python3.11/site-packages/sklearn/metrics/_classification.py:1344: UndefinedMetricWarning: Precision and F-score are ill-defined and being set to 0.0 in labels with no predicted samples. Use `zero_division` parameter to control this behavior.\n",
      "  _warn_prf(average, modifier, msg_start, len(result))\n"
     ]
    }
   ],
   "source": [
    "# model_svm = SVM()\n",
    "# confusion_matrix.report_svm(df, model_svm)"
   ]
  }
 ],
 "metadata": {
  "kernelspec": {
   "display_name": "Python 3",
   "language": "python",
   "name": "python3"
  },
  "language_info": {
   "codemirror_mode": {
    "name": "ipython",
    "version": 3
   },
   "file_extension": ".py",
   "mimetype": "text/x-python",
   "name": "python",
   "nbconvert_exporter": "python",
   "pygments_lexer": "ipython3",
   "version": "3.11.3"
  },
  "orig_nbformat": 4
 },
 "nbformat": 4,
 "nbformat_minor": 2
}
