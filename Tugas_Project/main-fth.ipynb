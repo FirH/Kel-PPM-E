{
 "cells": [
  {
   "cell_type": "code",
   "execution_count": 1,
   "metadata": {},
   "outputs": [
    {
     "data": {
      "text/plain": [
       "<module 'models' (<_frozen_importlib_external.NamespaceLoader object at 0x0000020740143690>)>"
      ]
     },
     "execution_count": 1,
     "metadata": {},
     "output_type": "execute_result"
    }
   ],
   "source": [
    "import pandas as pd\n",
    "import models\n",
    "import importlib\n",
    "importlib.reload(models)"
   ]
  },
  {
   "cell_type": "code",
   "execution_count": 2,
   "metadata": {},
   "outputs": [
    {
     "data": {
      "text/plain": [
       "<module 'models.model_nb' from 'd:\\\\Kuliah Stuff\\\\Kodingans\\\\PPM TA\\\\Kel-PPM-E\\\\Tugas_Project\\\\models\\\\model_nb.py'>"
      ]
     },
     "execution_count": 2,
     "metadata": {},
     "output_type": "execute_result"
    }
   ],
   "source": [
    "from models.model_nb import NB\n",
    "from models import confusion_matrix\n",
    "from models import encode\n",
    "from models import preprocessor\n",
    "importlib.reload(models)\n",
    "importlib.reload(models.model_nb)"
   ]
  },
  {
   "cell_type": "code",
   "execution_count": 3,
   "metadata": {},
   "outputs": [],
   "source": [
    "df = pd.read_csv('D:\\Kuliah Stuff\\Kodingans\\PPM TA\\Kel-PPM-E\\Dataset\\cirrhosis.csv')"
   ]
  },
  {
   "cell_type": "code",
   "execution_count": 4,
   "metadata": {},
   "outputs": [],
   "source": [
    "encoded = encode.encode(df.copy())\n",
    "imputed = preprocessor.impute(encoded)\n",
    "normalized = preprocessor.zscore(imputed)"
   ]
  },
  {
   "cell_type": "code",
   "execution_count": 5,
   "metadata": {},
   "outputs": [
    {
     "name": "stdout",
     "output_type": "stream",
     "text": [
      "              precision    recall  f1-score   support\n",
      "\n",
      "           0       0.62      0.89      0.73        53\n",
      "           1       0.25      0.06      0.10        31\n",
      "\n",
      "    accuracy                           0.58        84\n",
      "   macro avg       0.43      0.48      0.42        84\n",
      "weighted avg       0.48      0.58      0.50        84\n",
      "\n"
     ]
    }
   ],
   "source": [
    "model = NB()\n",
    "confusion_matrix.report_nb(normalized,model)"
   ]
  }
 ],
 "metadata": {
  "kernelspec": {
   "display_name": "Python 3",
   "language": "python",
   "name": "python3"
  },
  "language_info": {
   "codemirror_mode": {
    "name": "ipython",
    "version": 3
   },
   "file_extension": ".py",
   "mimetype": "text/x-python",
   "name": "python",
   "nbconvert_exporter": "python",
   "pygments_lexer": "ipython3",
   "version": "3.11.3"
  },
  "orig_nbformat": 4
 },
 "nbformat": 4,
 "nbformat_minor": 2
}
